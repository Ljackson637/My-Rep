{
 "cells": [
  {
   "cell_type": "markdown",
   "id": "deaef0f8",
   "metadata": {},
   "source": [
    "# What I Hope To Get From:\n",
    "## Data in EMAT\n",
    "#### By: Logan Jackson"
   ]
  },
  {
   "cell_type": "markdown",
   "id": "c14fa262",
   "metadata": {},
   "source": [
    "1. A more comprehensive understanding of coding (especially in Python)\n",
    "2. Understand how to use data effectively\n",
    "3. Have fun along the way"
   ]
  },
  {
   "cell_type": "markdown",
   "id": "2801293a",
   "metadata": {},
   "source": [
    "Here is an *Image* to describe how **EXCITED** I am for this class!"
   ]
  },
  {
   "cell_type": "markdown",
   "id": "423ea6a1",
   "metadata": {},
   "source": [
    "![](https://imgs.search.brave.com/Fcs9cvl6503uDkeSfzB9VbeM3JCRqxerwwP_TtG9i-Q/rs:fit:650:690:1/g:ce/aHR0cHM6Ly93d3cu/MWRlc2lnbnNob3Au/Y29tL3dwLWNvbnRl/bnQvdXBsb2Fkcy8y/MDE2LzAxLzFkc3At/MjAxNjAxMjUtcGVv/cGxlMDA0LnBuZw)"
   ]
  },
  {
   "cell_type": "markdown",
   "id": "dca59df1",
   "metadata": {},
   "source": [
    "*Image Credit: \"Excited businessman with clenched fists\" from 1designshop*"
   ]
  },
  {
   "cell_type": "code",
   "execution_count": null,
   "id": "ff3b498a",
   "metadata": {},
   "outputs": [],
   "source": [
    "for i in [1,2,3,4]:\n",
    "    print(i)"
   ]
  },
  {
   "cell_type": "code",
   "execution_count": null,
   "id": "7c8248cd",
   "metadata": {},
   "outputs": [],
   "source": [
    "x = \"Logan\"\n",
    "print(x)"
   ]
  },
  {
   "cell_type": "code",
   "execution_count": null,
   "id": "09d1d7a8",
   "metadata": {},
   "outputs": [],
   "source": [
    "def names (x):\n",
    "    return(x)"
   ]
  },
  {
   "cell_type": "code",
   "execution_count": null,
   "id": "69946588",
   "metadata": {},
   "outputs": [],
   "source": [
    "y = names(\"Logan\")\n",
    "print(y)"
   ]
  }
 ],
 "metadata": {
  "kernelspec": {
   "display_name": "Python 3 (ipykernel)",
   "language": "python",
   "name": "python3"
  },
  "language_info": {
   "codemirror_mode": {
    "name": "ipython",
    "version": 3
   },
   "file_extension": ".py",
   "mimetype": "text/x-python",
   "name": "python",
   "nbconvert_exporter": "python",
   "pygments_lexer": "ipython3",
   "version": "3.10.4"
  }
 },
 "nbformat": 4,
 "nbformat_minor": 5
}
