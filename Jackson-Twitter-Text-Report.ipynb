{
 "cells": [
  {
   "cell_type": "markdown",
   "id": "f59b581e",
   "metadata": {},
   "source": [
    "# Twitter Text Report: The Metaverse\n",
    "## By: Logan Jackson\n",
    "#### Oct. 25, 2022\n",
    "\n",
    "\n",
    "## Introduction\n",
    "\n",
    "In the last few weeks, the Metaverse has once again become a hot topic in the media due to a recent announcement that there will finally be legs in the Metaverse... yeah... legs... Up until this point, avatars within the Metaverse have been floating torsos, but soon that will no longer be the case... in one application, at least. Only Horizon Worlds will be getting this feature for now, but there are promises that it will make its way elsewhere soon. Meta is apparently using a predictive AI model in order to track a user's legs without the use of physical tracking devices, however, the debut of this technology was apparently staged and was instead using motion capture technology.\n",
    "\n",
    "Even without being deceptive in the technology's capability, this development was not very impressive in terms of pushing the limits of our technology. Much simpler systems and apps have been using leg tracking with much better results for a while now, and Meta not being able to even do that correctly is a very bad look for Meta and Mark Zuckerberg specifically.\n",
    "\n",
    "Around the same time as this announcement, there were reports that certain apps in the Metaverse have less than 50 daily active users, and this is incredibly problematic since Meta is pouring millions of dollars into these projects without getting much in return. \n",
    "\n",
    "All of these recent blunders along with previous developments in the Metaverse have not done it any favors in terms of public opinion. My goal in this report is to look at what people are saying about the Metaverse in order to gauge what the public thinks about it. I will mainly be looking for qualitative data by examining the sentiment of the tweets themselves, however, I will also be tracking the quantitative data of negative vs positive opinions. "
   ]
  },
  {
   "cell_type": "markdown",
   "id": "b62f0029",
   "metadata": {},
   "source": [
    "[Skip to Analysis](#Data-Analysis) \n",
    "\n",
    "[Skip to Results](#Results) "
   ]
  },
  {
   "cell_type": "markdown",
   "id": "cfb6a4a1",
   "metadata": {},
   "source": [
    "## Data Collection"
   ]
  },
  {
   "cell_type": "code",
   "execution_count": 1,
   "id": "17d149e2",
   "metadata": {},
   "outputs": [],
   "source": [
    "import pandas as pd\n",
    "import json\n",
    "import requests\n",
    "import urllib"
   ]
  },
  {
   "cell_type": "code",
   "execution_count": 2,
   "id": "5a7c87b4",
   "metadata": {},
   "outputs": [],
   "source": [
    "bearer_token = pd.read_csv(\"Twitter_Token_9-22.txt\", header = 0, sep ='\\t')"
   ]
  },
  {
   "cell_type": "code",
   "execution_count": null,
   "id": "2139ba92",
   "metadata": {},
   "outputs": [],
   "source": [
    "bearer_token['Bearer_Token'].iloc[0]"
   ]
  },
  {
   "cell_type": "code",
   "execution_count": 3,
   "id": "ac229e14",
   "metadata": {},
   "outputs": [],
   "source": [
    "header = {'Authorization':'Bearer {}'.format(bearer_token['Bearer_Token'].iloc[0])}"
   ]
  },
  {
   "cell_type": "code",
   "execution_count": 4,
   "id": "681503e5",
   "metadata": {},
   "outputs": [],
   "source": [
    "endpoint = 'https://api.twitter.com/2/tweets/search/recent'"
   ]
  },
  {
   "cell_type": "markdown",
   "id": "cc3b02fa",
   "metadata": {},
   "source": [
    "For my query, I am looking specifically for tweets talking about the leg feature, user counts, money, or Mark Zuckerberg himself. I also included the \"Sandbox\" term after running the query a few times, as it references a digital space within the Metaverse. Lastly, I had to negate any results having to do with cryptocurrencies (especially Solana), NFTs, and tweets attempting to sell something, as the Metaverse runs on the blockchain and this naturally turned up a bunch of unintended tweets trying to make a profit by using the buzzword of \"Metaverse.\""
   ]
  },
  {
   "cell_type": "code",
   "execution_count": 32,
   "id": "d9f466ef",
   "metadata": {},
   "outputs": [],
   "source": [
    "query_param = urllib.parse.quote('Metaverse (leg OR user OR Sandbox OR Zuckerberg OR Zucc OR money OR fail) -(crypto OR nft OR nfts OR solana OR #Sol OR sale) -is:retweet lang:en')"
   ]
  },
  {
   "cell_type": "code",
   "execution_count": 6,
   "id": "5e9c533b",
   "metadata": {},
   "outputs": [],
   "source": [
    "expansions = 'entities.mentions.username'"
   ]
  },
  {
   "cell_type": "code",
   "execution_count": 7,
   "id": "b58c3856",
   "metadata": {},
   "outputs": [],
   "source": [
    "user_fields = 'username'"
   ]
  },
  {
   "cell_type": "code",
   "execution_count": 8,
   "id": "b50178fb",
   "metadata": {},
   "outputs": [],
   "source": [
    "tweet_fields = 'author_id,public_metrics,created_at,geo'"
   ]
  },
  {
   "cell_type": "code",
   "execution_count": 9,
   "id": "85d1b76d",
   "metadata": {},
   "outputs": [],
   "source": [
    "media_fields = 'duration_ms,height,width,url,public_metrics'"
   ]
  },
  {
   "cell_type": "code",
   "execution_count": 33,
   "id": "768b9753",
   "metadata": {},
   "outputs": [],
   "source": [
    "search_recent_url = endpoint + '?query={}&media.fields={}&tweet.fields={}&expansions={}&user.fields={}&max_results=100'.format(query_param, media_fields, tweet_fields, expansions, user_fields)"
   ]
  },
  {
   "cell_type": "markdown",
   "id": "6c128085",
   "metadata": {},
   "source": [
    "This section is only here because it was what I used to test the responses my query gave me. I was able to weed out quite a few unwanted topics through this, however, I could have excluded more tweets regarding web3 technologies if I wanted to."
   ]
  },
  {
   "cell_type": "code",
   "execution_count": 34,
   "id": "9bfc25ed",
   "metadata": {},
   "outputs": [],
   "source": [
    "response = requests.get(search_recent_url, headers = header)"
   ]
  },
  {
   "cell_type": "code",
   "execution_count": 35,
   "id": "27b07605",
   "metadata": {},
   "outputs": [],
   "source": [
    "response_dict = json.loads(response.text)"
   ]
  },
  {
   "cell_type": "code",
   "execution_count": null,
   "id": "1ea8d2a5",
   "metadata": {},
   "outputs": [],
   "source": [
    "response.text"
   ]
  },
  {
   "cell_type": "code",
   "execution_count": null,
   "id": "be567503",
   "metadata": {},
   "outputs": [],
   "source": [
    "response_dict"
   ]
  },
  {
   "cell_type": "markdown",
   "id": "e5ade6b4",
   "metadata": {},
   "source": [
    "This section shows the function I used to get my final data into one list using pagination. "
   ]
  },
  {
   "cell_type": "code",
   "execution_count": 37,
   "id": "1963b896",
   "metadata": {},
   "outputs": [],
   "source": [
    "def twt_recent_search (query, num_pages, header):\n",
    "    \n",
    "    response_list = []\n",
    "    next_token = ''\n",
    "    \n",
    "    for i in range(0, num_pages):\n",
    "        \n",
    "        if i > 0:\n",
    "            this_query = query + \"&next_token={}\".format(next_token)\n",
    "        \n",
    "        else:\n",
    "            this_query = query\n",
    "        \n",
    "        \n",
    "        this_response = requests.get(this_query, headers = header)\n",
    "        print(this_response.status_code)\n",
    "        this_response_dict = json.loads(this_response.text)\n",
    "        response_list.append(this_response_dict)\n",
    "        next_token = this_response_dict['meta']['next_token']\n",
    "    \n",
    "    \n",
    "    \n",
    "    \n",
    "    \n",
    "    \n",
    "    return response_list"
   ]
  },
  {
   "cell_type": "code",
   "execution_count": 38,
   "id": "33b9c081",
   "metadata": {},
   "outputs": [
    {
     "name": "stdout",
     "output_type": "stream",
     "text": [
      "200\n",
      "200\n",
      "200\n",
      "200\n",
      "200\n",
      "200\n",
      "200\n",
      "200\n",
      "200\n",
      "200\n"
     ]
    }
   ],
   "source": [
    "my_responses = twt_recent_search(search_recent_url, 10, header)"
   ]
  },
  {
   "cell_type": "code",
   "execution_count": 39,
   "id": "b8a9d462",
   "metadata": {},
   "outputs": [],
   "source": [
    "results_1 = pd.DataFrame.from_records(my_responses)"
   ]
  },
  {
   "cell_type": "code",
   "execution_count": 40,
   "id": "cd885bfa",
   "metadata": {},
   "outputs": [],
   "source": [
    "data_list = list(results_1['data'])"
   ]
  },
  {
   "cell_type": "code",
   "execution_count": 41,
   "id": "3f166d7d",
   "metadata": {},
   "outputs": [],
   "source": [
    "data_list_of_dfs = [pd.DataFrame(x) for x in data_list]"
   ]
  },
  {
   "cell_type": "code",
   "execution_count": 42,
   "id": "7be3a871",
   "metadata": {},
   "outputs": [],
   "source": [
    "data_df = pd.concat(data_list_of_dfs)"
   ]
  },
  {
   "cell_type": "markdown",
   "id": "cb8bdcab",
   "metadata": {},
   "source": [
    "## Data Analysis"
   ]
  },
  {
   "cell_type": "markdown",
   "id": "78d1f035",
   "metadata": {},
   "source": [
    "The DataFrame shows all of the specifics and metadata for the tweets, however, I am mainly concerned with what is being said in the 'text' column."
   ]
  },
  {
   "cell_type": "code",
   "execution_count": 43,
   "id": "16a7da92",
   "metadata": {},
   "outputs": [
    {
     "data": {
      "text/html": [
       "<div>\n",
       "<style scoped>\n",
       "    .dataframe tbody tr th:only-of-type {\n",
       "        vertical-align: middle;\n",
       "    }\n",
       "\n",
       "    .dataframe tbody tr th {\n",
       "        vertical-align: top;\n",
       "    }\n",
       "\n",
       "    .dataframe thead th {\n",
       "        text-align: right;\n",
       "    }\n",
       "</style>\n",
       "<table border=\"1\" class=\"dataframe\">\n",
       "  <thead>\n",
       "    <tr style=\"text-align: right;\">\n",
       "      <th></th>\n",
       "      <th>text</th>\n",
       "      <th>entities</th>\n",
       "      <th>public_metrics</th>\n",
       "      <th>edit_history_tweet_ids</th>\n",
       "      <th>id</th>\n",
       "      <th>author_id</th>\n",
       "      <th>created_at</th>\n",
       "      <th>geo</th>\n",
       "    </tr>\n",
       "  </thead>\n",
       "  <tbody>\n",
       "    <tr>\n",
       "      <th>0</th>\n",
       "      <td>Find solace in the fact that #Metaverse does n...</td>\n",
       "      <td>{'mentions': [{'start': 138, 'end': 143, 'user...</td>\n",
       "      <td>{'retweet_count': 0, 'reply_count': 0, 'like_c...</td>\n",
       "      <td>[1584357079011074048]</td>\n",
       "      <td>1584357079011074048</td>\n",
       "      <td>4622973081</td>\n",
       "      <td>2022-10-24T01:32:18.000Z</td>\n",
       "      <td>NaN</td>\n",
       "    </tr>\n",
       "    <tr>\n",
       "      <th>1</th>\n",
       "      <td>WhatsApp is getting major new update on Androi...</td>\n",
       "      <td>NaN</td>\n",
       "      <td>{'retweet_count': 0, 'reply_count': 0, 'like_c...</td>\n",
       "      <td>[1584356854704267264]</td>\n",
       "      <td>1584356854704267264</td>\n",
       "      <td>1496229565278138372</td>\n",
       "      <td>2022-10-24T01:31:24.000Z</td>\n",
       "      <td>NaN</td>\n",
       "    </tr>\n",
       "    <tr>\n",
       "      <th>2</th>\n",
       "      <td>WhatsApp is getting major new update on Androi...</td>\n",
       "      <td>NaN</td>\n",
       "      <td>{'retweet_count': 0, 'reply_count': 0, 'like_c...</td>\n",
       "      <td>[1584356647514046465]</td>\n",
       "      <td>1584356647514046465</td>\n",
       "      <td>1572972005695148033</td>\n",
       "      <td>2022-10-24T01:30:35.000Z</td>\n",
       "      <td>NaN</td>\n",
       "    </tr>\n",
       "    <tr>\n",
       "      <th>3</th>\n",
       "      <td>#PaloAlto ! Our most famous resident is in his...</td>\n",
       "      <td>NaN</td>\n",
       "      <td>{'retweet_count': 0, 'reply_count': 0, 'like_c...</td>\n",
       "      <td>[1584356216842596352]</td>\n",
       "      <td>1584356216842596352</td>\n",
       "      <td>1442741580868116481</td>\n",
       "      <td>2022-10-24T01:28:52.000Z</td>\n",
       "      <td>NaN</td>\n",
       "    </tr>\n",
       "    <tr>\n",
       "      <th>4</th>\n",
       "      <td>Listening to Zuckerberg talk about the metaver...</td>\n",
       "      <td>NaN</td>\n",
       "      <td>{'retweet_count': 0, 'reply_count': 0, 'like_c...</td>\n",
       "      <td>[1584356120243544065]</td>\n",
       "      <td>1584356120243544065</td>\n",
       "      <td>21162173</td>\n",
       "      <td>2022-10-24T01:28:29.000Z</td>\n",
       "      <td>NaN</td>\n",
       "    </tr>\n",
       "    <tr>\n",
       "      <th>...</th>\n",
       "      <td>...</td>\n",
       "      <td>...</td>\n",
       "      <td>...</td>\n",
       "      <td>...</td>\n",
       "      <td>...</td>\n",
       "      <td>...</td>\n",
       "      <td>...</td>\n",
       "      <td>...</td>\n",
       "    </tr>\n",
       "    <tr>\n",
       "      <th>95</th>\n",
       "      <td>Zuckerberg projects confident despite lack of ...</td>\n",
       "      <td>NaN</td>\n",
       "      <td>{'retweet_count': 0, 'reply_count': 0, 'like_c...</td>\n",
       "      <td>[1583601394451644417]</td>\n",
       "      <td>1583601394451644417</td>\n",
       "      <td>1471364613254299652</td>\n",
       "      <td>2022-10-21T23:29:28.000Z</td>\n",
       "      <td>NaN</td>\n",
       "    </tr>\n",
       "    <tr>\n",
       "      <th>96</th>\n",
       "      <td>How many more warning signs does Mark Zuckerbe...</td>\n",
       "      <td>NaN</td>\n",
       "      <td>{'retweet_count': 0, 'reply_count': 0, 'like_c...</td>\n",
       "      <td>[1583601369721995264]</td>\n",
       "      <td>1583601369721995264</td>\n",
       "      <td>2211751110</td>\n",
       "      <td>2022-10-21T23:29:23.000Z</td>\n",
       "      <td>NaN</td>\n",
       "    </tr>\n",
       "    <tr>\n",
       "      <th>97</th>\n",
       "      <td>SIMILARITIES OF WEB3 AND METAVERSE\\nThey are b...</td>\n",
       "      <td>NaN</td>\n",
       "      <td>{'retweet_count': 0, 'reply_count': 1, 'like_c...</td>\n",
       "      <td>[1583599745372942337]</td>\n",
       "      <td>1583599745372942337</td>\n",
       "      <td>1314243566957363200</td>\n",
       "      <td>2022-10-21T23:22:55.000Z</td>\n",
       "      <td>NaN</td>\n",
       "    </tr>\n",
       "    <tr>\n",
       "      <th>98</th>\n",
       "      <td>You know what number is less than 200,000? 40,...</td>\n",
       "      <td>NaN</td>\n",
       "      <td>{'retweet_count': 0, 'reply_count': 0, 'like_c...</td>\n",
       "      <td>[1583599718328066048]</td>\n",
       "      <td>1583599718328066048</td>\n",
       "      <td>1546610292829945858</td>\n",
       "      <td>2022-10-21T23:22:49.000Z</td>\n",
       "      <td>NaN</td>\n",
       "    </tr>\n",
       "    <tr>\n",
       "      <th>99</th>\n",
       "      <td>This mf is already in the Metaverse … I think ...</td>\n",
       "      <td>NaN</td>\n",
       "      <td>{'retweet_count': 0, 'reply_count': 1, 'like_c...</td>\n",
       "      <td>[1583597026436009984]</td>\n",
       "      <td>1583597026436009984</td>\n",
       "      <td>1467315016835633154</td>\n",
       "      <td>2022-10-21T23:12:07.000Z</td>\n",
       "      <td>NaN</td>\n",
       "    </tr>\n",
       "  </tbody>\n",
       "</table>\n",
       "<p>1000 rows × 8 columns</p>\n",
       "</div>"
      ],
      "text/plain": [
       "                                                 text  \\\n",
       "0   Find solace in the fact that #Metaverse does n...   \n",
       "1   WhatsApp is getting major new update on Androi...   \n",
       "2   WhatsApp is getting major new update on Androi...   \n",
       "3   #PaloAlto ! Our most famous resident is in his...   \n",
       "4   Listening to Zuckerberg talk about the metaver...   \n",
       "..                                                ...   \n",
       "95  Zuckerberg projects confident despite lack of ...   \n",
       "96  How many more warning signs does Mark Zuckerbe...   \n",
       "97  SIMILARITIES OF WEB3 AND METAVERSE\\nThey are b...   \n",
       "98  You know what number is less than 200,000? 40,...   \n",
       "99  This mf is already in the Metaverse … I think ...   \n",
       "\n",
       "                                             entities  \\\n",
       "0   {'mentions': [{'start': 138, 'end': 143, 'user...   \n",
       "1                                                 NaN   \n",
       "2                                                 NaN   \n",
       "3                                                 NaN   \n",
       "4                                                 NaN   \n",
       "..                                                ...   \n",
       "95                                                NaN   \n",
       "96                                                NaN   \n",
       "97                                                NaN   \n",
       "98                                                NaN   \n",
       "99                                                NaN   \n",
       "\n",
       "                                       public_metrics edit_history_tweet_ids  \\\n",
       "0   {'retweet_count': 0, 'reply_count': 0, 'like_c...  [1584357079011074048]   \n",
       "1   {'retweet_count': 0, 'reply_count': 0, 'like_c...  [1584356854704267264]   \n",
       "2   {'retweet_count': 0, 'reply_count': 0, 'like_c...  [1584356647514046465]   \n",
       "3   {'retweet_count': 0, 'reply_count': 0, 'like_c...  [1584356216842596352]   \n",
       "4   {'retweet_count': 0, 'reply_count': 0, 'like_c...  [1584356120243544065]   \n",
       "..                                                ...                    ...   \n",
       "95  {'retweet_count': 0, 'reply_count': 0, 'like_c...  [1583601394451644417]   \n",
       "96  {'retweet_count': 0, 'reply_count': 0, 'like_c...  [1583601369721995264]   \n",
       "97  {'retweet_count': 0, 'reply_count': 1, 'like_c...  [1583599745372942337]   \n",
       "98  {'retweet_count': 0, 'reply_count': 0, 'like_c...  [1583599718328066048]   \n",
       "99  {'retweet_count': 0, 'reply_count': 1, 'like_c...  [1583597026436009984]   \n",
       "\n",
       "                     id            author_id                created_at  geo  \n",
       "0   1584357079011074048           4622973081  2022-10-24T01:32:18.000Z  NaN  \n",
       "1   1584356854704267264  1496229565278138372  2022-10-24T01:31:24.000Z  NaN  \n",
       "2   1584356647514046465  1572972005695148033  2022-10-24T01:30:35.000Z  NaN  \n",
       "3   1584356216842596352  1442741580868116481  2022-10-24T01:28:52.000Z  NaN  \n",
       "4   1584356120243544065             21162173  2022-10-24T01:28:29.000Z  NaN  \n",
       "..                  ...                  ...                       ...  ...  \n",
       "95  1583601394451644417  1471364613254299652  2022-10-21T23:29:28.000Z  NaN  \n",
       "96  1583601369721995264           2211751110  2022-10-21T23:29:23.000Z  NaN  \n",
       "97  1583599745372942337  1314243566957363200  2022-10-21T23:22:55.000Z  NaN  \n",
       "98  1583599718328066048  1546610292829945858  2022-10-21T23:22:49.000Z  NaN  \n",
       "99  1583597026436009984  1467315016835633154  2022-10-21T23:12:07.000Z  NaN  \n",
       "\n",
       "[1000 rows x 8 columns]"
      ]
     },
     "execution_count": 43,
     "metadata": {},
     "output_type": "execute_result"
    }
   ],
   "source": [
    "data_df"
   ]
  },
  {
   "cell_type": "code",
   "execution_count": 44,
   "id": "b871a47b",
   "metadata": {},
   "outputs": [],
   "source": [
    "data_df.to_csv('metaverse_data.csv')"
   ]
  },
  {
   "cell_type": "markdown",
   "id": "5ed12abe",
   "metadata": {},
   "source": [
    "This final DataFrame drops some excess columns and ensures that the full tweet is displayed by changing the maximum column width, which also makes 'entities' and 'public_metrics' extend further as well."
   ]
  },
  {
   "cell_type": "code",
   "execution_count": 2,
   "id": "55eb6df0",
   "metadata": {},
   "outputs": [],
   "source": [
    "pd.set_option(\"max_colwidth\", 512)"
   ]
  },
  {
   "cell_type": "code",
   "execution_count": 3,
   "id": "ef6d937d",
   "metadata": {},
   "outputs": [],
   "source": [
    "meta_responses = pd.read_csv('metaverse_data.csv')"
   ]
  },
  {
   "cell_type": "code",
   "execution_count": 10,
   "id": "cd0b8285",
   "metadata": {},
   "outputs": [
    {
     "data": {
      "text/html": [
       "<div>\n",
       "<style scoped>\n",
       "    .dataframe tbody tr th:only-of-type {\n",
       "        vertical-align: middle;\n",
       "    }\n",
       "\n",
       "    .dataframe tbody tr th {\n",
       "        vertical-align: top;\n",
       "    }\n",
       "\n",
       "    .dataframe thead th {\n",
       "        text-align: right;\n",
       "    }\n",
       "</style>\n",
       "<table border=\"1\" class=\"dataframe\">\n",
       "  <thead>\n",
       "    <tr style=\"text-align: right;\">\n",
       "      <th></th>\n",
       "      <th>text</th>\n",
       "      <th>entities</th>\n",
       "      <th>public_metrics</th>\n",
       "      <th>edit_history_tweet_ids</th>\n",
       "      <th>id</th>\n",
       "      <th>author_id</th>\n",
       "      <th>created_at</th>\n",
       "    </tr>\n",
       "  </thead>\n",
       "  <tbody>\n",
       "    <tr>\n",
       "      <th>0</th>\n",
       "      <td>Find solace in the fact that #Metaverse does not seem to become the game changer Zuckerberg wants everyone to think it is. (And boy, as a @Meta employee, you better think it is, or else...!) https://t.co/3JNnx9xXkJ</td>\n",
       "      <td>{'mentions': [{'start': 138, 'end': 143, 'username': 'Meta', 'id': '2425151'}]}</td>\n",
       "      <td>{'retweet_count': 0, 'reply_count': 0, 'like_count': 0, 'quote_count': 0}</td>\n",
       "      <td>['1584357079011074048']</td>\n",
       "      <td>1584357079011074048</td>\n",
       "      <td>4622973081</td>\n",
       "      <td>2022-10-24T01:32:18.000Z</td>\n",
       "    </tr>\n",
       "    <tr>\n",
       "      <th>1</th>\n",
       "      <td>WhatsApp is getting major new update on Android as Mark Zuckerberg connects it to Metaverse https://t.co/MEJ6tquVcW</td>\n",
       "      <td>NaN</td>\n",
       "      <td>{'retweet_count': 0, 'reply_count': 0, 'like_count': 0, 'quote_count': 0}</td>\n",
       "      <td>['1584356854704267264']</td>\n",
       "      <td>1584356854704267264</td>\n",
       "      <td>1496229565278138372</td>\n",
       "      <td>2022-10-24T01:31:24.000Z</td>\n",
       "    </tr>\n",
       "    <tr>\n",
       "      <th>2</th>\n",
       "      <td>WhatsApp is getting major new update on Android as Mark Zuckerberg connects it to Metaverse https://t.co/wqsmcJaN6T</td>\n",
       "      <td>NaN</td>\n",
       "      <td>{'retweet_count': 0, 'reply_count': 0, 'like_count': 0, 'quote_count': 0}</td>\n",
       "      <td>['1584356647514046465']</td>\n",
       "      <td>1584356647514046465</td>\n",
       "      <td>1572972005695148033</td>\n",
       "      <td>2022-10-24T01:30:35.000Z</td>\n",
       "    </tr>\n",
       "    <tr>\n",
       "      <th>3</th>\n",
       "      <td>#PaloAlto ! Our most famous resident is in his own world! \\n\\n\"Mark Zuckerberg should dial down the metaverse crap and make Facebook 'Facebook' again\" More:\\n\\nhttps://t.co/eijkgQ0QcB</td>\n",
       "      <td>NaN</td>\n",
       "      <td>{'retweet_count': 0, 'reply_count': 0, 'like_count': 0, 'quote_count': 0}</td>\n",
       "      <td>['1584356216842596352']</td>\n",
       "      <td>1584356216842596352</td>\n",
       "      <td>1442741580868116481</td>\n",
       "      <td>2022-10-24T01:28:52.000Z</td>\n",
       "    </tr>\n",
       "    <tr>\n",
       "      <th>4</th>\n",
       "      <td>Listening to Zuckerberg talk about the metaverse, what he really is imagining is more like the holodeck. The connected/networked aspect is by far the easiest technically…</td>\n",
       "      <td>NaN</td>\n",
       "      <td>{'retweet_count': 0, 'reply_count': 0, 'like_count': 1, 'quote_count': 0}</td>\n",
       "      <td>['1584356120243544065']</td>\n",
       "      <td>1584356120243544065</td>\n",
       "      <td>21162173</td>\n",
       "      <td>2022-10-24T01:28:29.000Z</td>\n",
       "    </tr>\n",
       "    <tr>\n",
       "      <th>...</th>\n",
       "      <td>...</td>\n",
       "      <td>...</td>\n",
       "      <td>...</td>\n",
       "      <td>...</td>\n",
       "      <td>...</td>\n",
       "      <td>...</td>\n",
       "      <td>...</td>\n",
       "    </tr>\n",
       "    <tr>\n",
       "      <th>995</th>\n",
       "      <td>Zuckerberg projects confident despite lack of profit for Reality Labs . Meta's Reality Labs, the company's metaverse-focused business, reported a $2.9 billion loss in the first quarter of 2022. Zuckerberg said one near-term...</td>\n",
       "      <td>NaN</td>\n",
       "      <td>{'retweet_count': 0, 'reply_count': 0, 'like_count': 0, 'quote_count': 0}</td>\n",
       "      <td>['1583601394451644417']</td>\n",
       "      <td>1583601394451644417</td>\n",
       "      <td>1471364613254299652</td>\n",
       "      <td>2022-10-21T23:29:28.000Z</td>\n",
       "    </tr>\n",
       "    <tr>\n",
       "      <th>996</th>\n",
       "      <td>How many more warning signs does Mark Zuckerberg need to see before he pulls the plug on his metaverse? https://t.co/TRU9lMyYuI</td>\n",
       "      <td>NaN</td>\n",
       "      <td>{'retweet_count': 0, 'reply_count': 0, 'like_count': 0, 'quote_count': 0}</td>\n",
       "      <td>['1583601369721995264']</td>\n",
       "      <td>1583601369721995264</td>\n",
       "      <td>2211751110</td>\n",
       "      <td>2022-10-21T23:29:23.000Z</td>\n",
       "    </tr>\n",
       "    <tr>\n",
       "      <th>997</th>\n",
       "      <td>SIMILARITIES OF WEB3 AND METAVERSE\\nThey are built on similar technology; they both use AI(Artificial Intelligence) for advanced user interface and also semantic web\\nThey are both in the early stages\\nThey both evolve with changes in blockchain technology</td>\n",
       "      <td>NaN</td>\n",
       "      <td>{'retweet_count': 0, 'reply_count': 1, 'like_count': 2, 'quote_count': 0}</td>\n",
       "      <td>['1583599745372942337']</td>\n",
       "      <td>1583599745372942337</td>\n",
       "      <td>1314243566957363200</td>\n",
       "      <td>2022-10-21T23:22:55.000Z</td>\n",
       "    </tr>\n",
       "    <tr>\n",
       "      <th>998</th>\n",
       "      <td>You know what number is less than 200,000? 40,000. 12,000. 5,000. 450. 0. 😂\\n\\nhttps://t.co/d4QY6ztDK7 https://t.co/YSFHhv0Sp2</td>\n",
       "      <td>NaN</td>\n",
       "      <td>{'retweet_count': 0, 'reply_count': 0, 'like_count': 0, 'quote_count': 0}</td>\n",
       "      <td>['1583599718328066048']</td>\n",
       "      <td>1583599718328066048</td>\n",
       "      <td>1546610292829945858</td>\n",
       "      <td>2022-10-21T23:22:49.000Z</td>\n",
       "    </tr>\n",
       "    <tr>\n",
       "      <th>999</th>\n",
       "      <td>This mf is already in the Metaverse … I think that’s the jacket puffy wore in the more money more problems video ..not sure…but this is 🔥🔥 https://t.co/EHSZaPrPDy</td>\n",
       "      <td>NaN</td>\n",
       "      <td>{'retweet_count': 0, 'reply_count': 1, 'like_count': 0, 'quote_count': 0}</td>\n",
       "      <td>['1583597026436009984']</td>\n",
       "      <td>1583597026436009984</td>\n",
       "      <td>1467315016835633154</td>\n",
       "      <td>2022-10-21T23:12:07.000Z</td>\n",
       "    </tr>\n",
       "  </tbody>\n",
       "</table>\n",
       "<p>1000 rows × 7 columns</p>\n",
       "</div>"
      ],
      "text/plain": [
       "                                                                                                                                                                                                                                                                 text  \\\n",
       "0                                              Find solace in the fact that #Metaverse does not seem to become the game changer Zuckerberg wants everyone to think it is. (And boy, as a @Meta employee, you better think it is, or else...!) https://t.co/3JNnx9xXkJ   \n",
       "1                                                                                                                                                 WhatsApp is getting major new update on Android as Mark Zuckerberg connects it to Metaverse https://t.co/MEJ6tquVcW   \n",
       "2                                                                                                                                                 WhatsApp is getting major new update on Android as Mark Zuckerberg connects it to Metaverse https://t.co/wqsmcJaN6T   \n",
       "3                                                                             #PaloAlto ! Our most famous resident is in his own world! \\n\\n\"Mark Zuckerberg should dial down the metaverse crap and make Facebook 'Facebook' again\" More:\\n\\nhttps://t.co/eijkgQ0QcB   \n",
       "4                                                                                          Listening to Zuckerberg talk about the metaverse, what he really is imagining is more like the holodeck. The connected/networked aspect is by far the easiest technically…   \n",
       "..                                                                                                                                                                                                                                                                ...   \n",
       "995                                Zuckerberg projects confident despite lack of profit for Reality Labs . Meta's Reality Labs, the company's metaverse-focused business, reported a $2.9 billion loss in the first quarter of 2022. Zuckerberg said one near-term...   \n",
       "996                                                                                                                                   How many more warning signs does Mark Zuckerberg need to see before he pulls the plug on his metaverse? https://t.co/TRU9lMyYuI   \n",
       "997  SIMILARITIES OF WEB3 AND METAVERSE\\nThey are built on similar technology; they both use AI(Artificial Intelligence) for advanced user interface and also semantic web\\nThey are both in the early stages\\nThey both evolve with changes in blockchain technology   \n",
       "998                                                                                                                                    You know what number is less than 200,000? 40,000. 12,000. 5,000. 450. 0. 😂\\n\\nhttps://t.co/d4QY6ztDK7 https://t.co/YSFHhv0Sp2   \n",
       "999                                                                                                This mf is already in the Metaverse … I think that’s the jacket puffy wore in the more money more problems video ..not sure…but this is 🔥🔥 https://t.co/EHSZaPrPDy   \n",
       "\n",
       "                                                                            entities  \\\n",
       "0    {'mentions': [{'start': 138, 'end': 143, 'username': 'Meta', 'id': '2425151'}]}   \n",
       "1                                                                                NaN   \n",
       "2                                                                                NaN   \n",
       "3                                                                                NaN   \n",
       "4                                                                                NaN   \n",
       "..                                                                               ...   \n",
       "995                                                                              NaN   \n",
       "996                                                                              NaN   \n",
       "997                                                                              NaN   \n",
       "998                                                                              NaN   \n",
       "999                                                                              NaN   \n",
       "\n",
       "                                                                public_metrics  \\\n",
       "0    {'retweet_count': 0, 'reply_count': 0, 'like_count': 0, 'quote_count': 0}   \n",
       "1    {'retweet_count': 0, 'reply_count': 0, 'like_count': 0, 'quote_count': 0}   \n",
       "2    {'retweet_count': 0, 'reply_count': 0, 'like_count': 0, 'quote_count': 0}   \n",
       "3    {'retweet_count': 0, 'reply_count': 0, 'like_count': 0, 'quote_count': 0}   \n",
       "4    {'retweet_count': 0, 'reply_count': 0, 'like_count': 1, 'quote_count': 0}   \n",
       "..                                                                         ...   \n",
       "995  {'retweet_count': 0, 'reply_count': 0, 'like_count': 0, 'quote_count': 0}   \n",
       "996  {'retweet_count': 0, 'reply_count': 0, 'like_count': 0, 'quote_count': 0}   \n",
       "997  {'retweet_count': 0, 'reply_count': 1, 'like_count': 2, 'quote_count': 0}   \n",
       "998  {'retweet_count': 0, 'reply_count': 0, 'like_count': 0, 'quote_count': 0}   \n",
       "999  {'retweet_count': 0, 'reply_count': 1, 'like_count': 0, 'quote_count': 0}   \n",
       "\n",
       "      edit_history_tweet_ids                   id            author_id  \\\n",
       "0    ['1584357079011074048']  1584357079011074048           4622973081   \n",
       "1    ['1584356854704267264']  1584356854704267264  1496229565278138372   \n",
       "2    ['1584356647514046465']  1584356647514046465  1572972005695148033   \n",
       "3    ['1584356216842596352']  1584356216842596352  1442741580868116481   \n",
       "4    ['1584356120243544065']  1584356120243544065             21162173   \n",
       "..                       ...                  ...                  ...   \n",
       "995  ['1583601394451644417']  1583601394451644417  1471364613254299652   \n",
       "996  ['1583601369721995264']  1583601369721995264           2211751110   \n",
       "997  ['1583599745372942337']  1583599745372942337  1314243566957363200   \n",
       "998  ['1583599718328066048']  1583599718328066048  1546610292829945858   \n",
       "999  ['1583597026436009984']  1583597026436009984  1467315016835633154   \n",
       "\n",
       "                   created_at  \n",
       "0    2022-10-24T01:32:18.000Z  \n",
       "1    2022-10-24T01:31:24.000Z  \n",
       "2    2022-10-24T01:30:35.000Z  \n",
       "3    2022-10-24T01:28:52.000Z  \n",
       "4    2022-10-24T01:28:29.000Z  \n",
       "..                        ...  \n",
       "995  2022-10-21T23:29:28.000Z  \n",
       "996  2022-10-21T23:29:23.000Z  \n",
       "997  2022-10-21T23:22:55.000Z  \n",
       "998  2022-10-21T23:22:49.000Z  \n",
       "999  2022-10-21T23:12:07.000Z  \n",
       "\n",
       "[1000 rows x 7 columns]"
      ]
     },
     "execution_count": 10,
     "metadata": {},
     "output_type": "execute_result"
    }
   ],
   "source": [
    "meta_responses.drop(['numbers','geo'], axis=1)"
   ]
  },
  {
   "cell_type": "markdown",
   "id": "434978ed",
   "metadata": {},
   "source": [
    "Below are some specific tweets that describe the public sentiment towards the Metaverse based on the responses my query gave me. I attempted to show the full scope of what was being said with as little bias as possible. There was, however, many more negative statements than there were positive ones, with the tweets in support usually having something to do with cryptocurrencies and NFTs despite my attempts at limiting those results. "
   ]
  },
  {
   "cell_type": "code",
   "execution_count": null,
   "id": "7a4724ed",
   "metadata": {},
   "outputs": [],
   "source": [
    "[print(x) for x in meta_responses['text'][0:300]]"
   ]
  },
  {
   "cell_type": "code",
   "execution_count": 8,
   "id": "b587b448",
   "metadata": {},
   "outputs": [
    {
     "data": {
      "text/plain": [
       "'Find solace in the fact that #Metaverse does not seem to become the game changer Zuckerberg wants everyone to think it is. (And boy, as a @Meta employee, you better think it is, or else...!) https://t.co/3JNnx9xXkJ'"
      ]
     },
     "execution_count": 8,
     "metadata": {},
     "output_type": "execute_result"
    }
   ],
   "source": [
    "meta_responses['text'][0]"
   ]
  },
  {
   "cell_type": "code",
   "execution_count": 40,
   "id": "11e96435",
   "metadata": {},
   "outputs": [
    {
     "data": {
      "text/plain": [
       "'\"Mark Zuckerberg should dial down the metaverse crap and make Facebook \\'Facebook\\' again\" More:\\n\\nhttps://t.co/EKSKUzHWyo'"
      ]
     },
     "execution_count": 40,
     "metadata": {},
     "output_type": "execute_result"
    }
   ],
   "source": [
    "meta_responses['text'][5]"
   ]
  },
  {
   "cell_type": "code",
   "execution_count": 42,
   "id": "e413e0cd",
   "metadata": {},
   "outputs": [
    {
     "data": {
      "text/plain": [
       "'Mark Zuckerberg could’ve just bought Roblox and rename it the Metaverse'"
      ]
     },
     "execution_count": 42,
     "metadata": {},
     "output_type": "execute_result"
    }
   ],
   "source": [
    "meta_responses['text'][7]"
   ]
  },
  {
   "cell_type": "code",
   "execution_count": 49,
   "id": "194a9368",
   "metadata": {},
   "outputs": [
    {
     "data": {
      "text/plain": [
       "'Metaverse Game Backer Yat Siu Says Low User Count Isn’t Best Measure - Yahoo Finance https://t.co/8vqz3HacwT'"
      ]
     },
     "execution_count": 49,
     "metadata": {},
     "output_type": "execute_result"
    }
   ],
   "source": [
    "meta_responses['text'][13]"
   ]
  },
  {
   "cell_type": "code",
   "execution_count": 52,
   "id": "394f37c9",
   "metadata": {},
   "outputs": [
    {
     "data": {
      "text/plain": [
       "'#DTN #DailyTechNews\\n[Mark Zuckerberg has a $10 billion plan to make it impossible for remote workers to hide from their bosses.]\\n#Zuckerberg #Fortune #Mark #Meta #Zoom #metaverse \\nhttps://t.co/xgMpKLPOEI'"
      ]
     },
     "execution_count": 52,
     "metadata": {},
     "output_type": "execute_result"
    }
   ],
   "source": [
    "meta_responses['text'][15]"
   ]
  },
  {
   "cell_type": "code",
   "execution_count": 54,
   "id": "aa53c4d6",
   "metadata": {},
   "outputs": [
    {
     "data": {
      "text/plain": [
       "'Just add this to the long list of reasons why the Metaverse will fail. \\nSell $META https://t.co/8NvzNAQNWd'"
      ]
     },
     "execution_count": 54,
     "metadata": {},
     "output_type": "execute_result"
    }
   ],
   "source": [
    "meta_responses['text'][17]"
   ]
  },
  {
   "cell_type": "code",
   "execution_count": 59,
   "id": "40f9fc36",
   "metadata": {},
   "outputs": [
    {
     "data": {
      "text/plain": [
       "'Mark Zuckerberg Says Creating the Metaverse Will Bleed Money for\\xa0Years https://t.co/cwGS7UfJAp'"
      ]
     },
     "execution_count": 59,
     "metadata": {},
     "output_type": "execute_result"
    }
   ],
   "source": [
    "meta_responses['text'][22]"
   ]
  },
  {
   "cell_type": "code",
   "execution_count": 61,
   "id": "e7a60f9a",
   "metadata": {},
   "outputs": [
    {
     "data": {
      "text/plain": [
       "'I couldn’t have said it better myself. WAY too big a gamble for such a large (but vulnerable, due to level of competition) company. I agree, something of that magnitude is best left to newer endeavors. Frankly I hope it doesn’t work out. Too much for 1 co. https://t.co/AnjAsJziOp'"
      ]
     },
     "execution_count": 61,
     "metadata": {},
     "output_type": "execute_result"
    }
   ],
   "source": [
    "meta_responses['text'][24]"
   ]
  },
  {
   "cell_type": "code",
   "execution_count": 62,
   "id": "6fd95d88",
   "metadata": {},
   "outputs": [
    {
     "data": {
      "text/plain": [
       "\"FK Zuckerberg FK the Metaverse We don't need\\nto be alienated from nature for his profits!💰💰💰\\n🇺🇸🇺🇸🇺🇸🇺🇸🇺🇸🇺🇸🇺🇸🇺🇸🇺🇸🇺🇸🇺🇸🇺🇸🇺🇸🇺🇸🇺🇸🇺🇸 https://t.co/75jaUbuY8v\""
      ]
     },
     "execution_count": 62,
     "metadata": {},
     "output_type": "execute_result"
    }
   ],
   "source": [
    "meta_responses['text'][25]"
   ]
  },
  {
   "cell_type": "code",
   "execution_count": 64,
   "id": "277d6a8c",
   "metadata": {},
   "outputs": [
    {
     "data": {
      "text/plain": [
       "'@money2020 listening to Stephane Kasriel, Head of #Commerce and #FinancialTechnology @Meta, talk about the future of money in the #Metaverse… “the sky is the limit now with the new era of the internet.” @Genpact https://t.co/qZa9DiJMLK'"
      ]
     },
     "execution_count": 64,
     "metadata": {},
     "output_type": "execute_result"
    }
   ],
   "source": [
    "meta_responses['text'][27]"
   ]
  },
  {
   "cell_type": "code",
   "execution_count": 65,
   "id": "e1850018",
   "metadata": {},
   "outputs": [
    {
     "data": {
      "text/plain": [
       "'Money in the #metaverse with @skasriel at @money2020 - \"Build a presence that feels like your presence in the real world. It\\'s not the end, but it\\'s a good place to start. Imagine banks - they could be such a cool virtual experience! But they\\'ll start as simple virtual branches\" https://t.co/8Ln8GE6b8c'"
      ]
     },
     "execution_count": 65,
     "metadata": {},
     "output_type": "execute_result"
    }
   ],
   "source": [
    "meta_responses['text'][28]"
   ]
  },
  {
   "cell_type": "code",
   "execution_count": 77,
   "id": "af4a3416",
   "metadata": {},
   "outputs": [
    {
     "data": {
      "text/plain": [
       "'three areas of un-necessary projects (that are a waste of time, energy and money are: space travel, cryptocurrencies and the metaverse).\\n\\nWe should reassign the people working on those things to more crucial needs, such as: stopping wars, curing diseases and building houses.'"
      ]
     },
     "execution_count": 77,
     "metadata": {},
     "output_type": "execute_result"
    }
   ],
   "source": [
    "meta_responses['text'][40]"
   ]
  },
  {
   "cell_type": "code",
   "execution_count": 84,
   "id": "b670f782",
   "metadata": {},
   "outputs": [
    {
     "data": {
      "text/plain": [
       "'@lorraineball They have to make up for all that money Zuckerberg flushed down the \"Metaverse\" toilet.'"
      ]
     },
     "execution_count": 84,
     "metadata": {},
     "output_type": "execute_result"
    }
   ],
   "source": [
    "meta_responses['text'][47]"
   ]
  },
  {
   "cell_type": "code",
   "execution_count": 85,
   "id": "419eed0a",
   "metadata": {},
   "outputs": [
    {
     "data": {
      "text/plain": [
       "'The Metaverse Is Inevitable—but Not How Zuckerberg Expects https://t.co/t0by0qtfur via @thedailybeast'"
      ]
     },
     "execution_count": 85,
     "metadata": {},
     "output_type": "execute_result"
    }
   ],
   "source": [
    "meta_responses['text'][48]"
   ]
  },
  {
   "cell_type": "code",
   "execution_count": 94,
   "id": "8c5a7d02",
   "metadata": {},
   "outputs": [
    {
     "data": {
      "text/plain": [
       "'The metaverse is The Cell for Mark Zuckerberg and we are all J Lo'"
      ]
     },
     "execution_count": 94,
     "metadata": {},
     "output_type": "execute_result"
    }
   ],
   "source": [
    "meta_responses['text'][57]"
   ]
  },
  {
   "cell_type": "code",
   "execution_count": 105,
   "id": "e108f390",
   "metadata": {},
   "outputs": [
    {
     "data": {
      "text/plain": [
       "'Prices for virtual land in the metaverse have plummeted. Buyers see an investment opportunity, but is it cheaper for a reason? https://t.co/FNOd7xGB62 via @wealth'"
      ]
     },
     "execution_count": 105,
     "metadata": {},
     "output_type": "execute_result"
    }
   ],
   "source": [
    "meta_responses['text'][68]"
   ]
  },
  {
   "cell_type": "code",
   "execution_count": 113,
   "id": "103b639f",
   "metadata": {},
   "outputs": [
    {
     "data": {
      "text/plain": [
       "'Lol\\n\\nZuck described the metaverse in a way that disregards user needs. Like most Facebook products.\\n\\n#tldr\\nThis is about beating Apple to a new ecosystem to have unfettered control for advertising dollars. \\n\\nGot it!\\n\\nhttps://t.co/qL8rFuJr9f'"
      ]
     },
     "execution_count": 113,
     "metadata": {},
     "output_type": "execute_result"
    }
   ],
   "source": [
    "meta_responses['text'][76]"
   ]
  },
  {
   "cell_type": "code",
   "execution_count": 23,
   "id": "d37662f4",
   "metadata": {},
   "outputs": [
    {
     "data": {
      "text/plain": [
       "'I don\\'t even want virtual legs (who looks at infinite possibility and says \"one normal mundanity please!\") but if it keeps bullying Zuckerberg into bankruptcy I\\'ll insist my thousands of employees working as virtual millipedes is NON-NEGOTIABLE to our metaverse synergy'"
      ]
     },
     "execution_count": 23,
     "metadata": {},
     "output_type": "execute_result"
    }
   ],
   "source": [
    "meta_responses['text'][81]"
   ]
  },
  {
   "cell_type": "code",
   "execution_count": 30,
   "id": "329fcd83",
   "metadata": {},
   "outputs": [
    {
     "data": {
      "text/plain": [
       "'This token is the smartest way to set yourself up for the money coming out of the metaverse.'"
      ]
     },
     "execution_count": 30,
     "metadata": {},
     "output_type": "execute_result"
    }
   ],
   "source": [
    "meta_responses['text'][87]"
   ]
  },
  {
   "cell_type": "code",
   "execution_count": 32,
   "id": "9df35bc5",
   "metadata": {},
   "outputs": [
    {
     "data": {
      "text/plain": [
       "\"Zuckerberg's metaverse for work meetings: soul-destroying, awful, why\\n\\nmetaverse for getting together with far-flung friends and playing D&amp;D: I would never take the goggles off\""
      ]
     },
     "execution_count": 32,
     "metadata": {},
     "output_type": "execute_result"
    }
   ],
   "source": [
    "meta_responses['text'][89]"
   ]
  },
  {
   "cell_type": "code",
   "execution_count": 18,
   "id": "4b8564f6",
   "metadata": {},
   "outputs": [
    {
     "data": {
      "text/plain": [
       "\"I think it's great that Zuckerberg is wasting billions on the metaverse.  If he keeps it up, Facebook will implode, and the human race will be better off. https://t.co/PYjXgtHSTS\""
      ]
     },
     "execution_count": 18,
     "metadata": {},
     "output_type": "execute_result"
    }
   ],
   "source": [
    "meta_responses['text'][121]"
   ]
  },
  {
   "cell_type": "code",
   "execution_count": 21,
   "id": "572a97ba",
   "metadata": {},
   "outputs": [
    {
     "data": {
      "text/plain": [
       "\"Zuckerberg\\n\\n- Creates FB. Everyone says it's a fad, won't last\\n- FB IPO's. They won't be able to figure out monetization, especially on mobile\\n- FB buys Instagram. OMG they're spending $1 billion, a 1/3 of their cash\\n\\nBut sure, tell me about how FB's metaverse will fail\""
      ]
     },
     "execution_count": 21,
     "metadata": {},
     "output_type": "execute_result"
    }
   ],
   "source": [
    "meta_responses['text'][197]"
   ]
  },
  {
   "cell_type": "code",
   "execution_count": 27,
   "id": "ffbe747f",
   "metadata": {},
   "outputs": [
    {
     "data": {
      "text/plain": [
       "'Mark Zuckerberg’s Metaverse Legs Demo Was Staged With Motion Capture https://t.co/qvOmny8tMk https://t.co/PkufIsfouF'"
      ]
     },
     "execution_count": 27,
     "metadata": {},
     "output_type": "execute_result"
    }
   ],
   "source": [
    "meta_responses['text'][291]"
   ]
  },
  {
   "cell_type": "markdown",
   "id": "1728b566",
   "metadata": {},
   "source": [
    "## Results\n",
    "\n",
    "After reading through the tweets, it seems like the public opinion of the Metaverse is just as negative as I believed it to be. However, there was a surprising amount of tweets either in support of the Metaverse or hopeful of the future of the technology. Although, most of the support comes from the outlook of the Metaverse as a means of making quick cash. Since the technology operates through the blockchain, there are plenty of tokens that people are hoping make it \"to the moon\" by investing in the Metaverse. I personally do think that certain aspects of the Metaverse could be beneficial in the future, but it is being handled horribly. \n",
    "\n",
    "I believe that the data collected is reflective of general public opinion and not just Twitter users, however, I do believe there is a higher concentration of crypto-enthusiasts since Elon Musk acquired Twitter. In terms of the actual data I collected, I think I may have been able to hone my query in order to reduce duplicates and find more arguments that were pro-Metaverse to make my research less biased, but from the sheer number of responses I collected, there should still be enough for my conclusions to be well-informed. \n",
    "\n",
    "Moving forward with my research, I would look into some of the articles referenced in the tweets collected to learn more about the problems with the Metaverse as well as potential ways forward for the technology, or if the technology should continue at all. I might also find different topics surrounding the Metaverse in order to look into different things people are talking about. Lastly, I could lean into the cryptocurrency and Web3 angle of the Metaverse to see why these people are so heavily invested in its success. "
   ]
  }
 ],
 "metadata": {
  "kernelspec": {
   "display_name": "Python 3 (ipykernel)",
   "language": "python",
   "name": "python3"
  },
  "language_info": {
   "codemirror_mode": {
    "name": "ipython",
    "version": 3
   },
   "file_extension": ".py",
   "mimetype": "text/x-python",
   "name": "python",
   "nbconvert_exporter": "python",
   "pygments_lexer": "ipython3",
   "version": "3.10.4"
  }
 },
 "nbformat": 4,
 "nbformat_minor": 5
}
